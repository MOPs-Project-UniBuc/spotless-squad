{
 "cells": [
  {
   "cell_type": "code",
   "execution_count": null,
   "metadata": {},
   "outputs": [],
   "source": [
    "import pandas as pd\n",
    "import sqlalchemy\n",
    "\n",
    "from spotlesssquad.sql import tables"
   ]
  },
  {
   "cell_type": "markdown",
   "metadata": {},
   "source": [
    "```sh\n",
    "sqlite3 spotlesssquad/SpotlessSquad.db\n",
    "```\n"
   ]
  },
  {
   "cell_type": "code",
   "execution_count": null,
   "metadata": {},
   "outputs": [],
   "source": [
    "sql_engine = sqlalchemy.create_engine(\"sqlite:///../../spotlesssquad/SpotlessSquad.db\")"
   ]
  },
  {
   "cell_type": "code",
   "execution_count": null,
   "metadata": {},
   "outputs": [],
   "source": [
    "# CREATE CLIENT USERS TABLE\n",
    "tables.create_client_users_table(sql_engine)"
   ]
  },
  {
   "cell_type": "code",
   "execution_count": null,
   "metadata": {},
   "outputs": [],
   "source": [
    "# CREATE CLEAN SERVICE PROVIDERS TABLE\n",
    "tables.create_clean_service_providers_table(sql_engine)"
   ]
  },
  {
   "cell_type": "code",
   "execution_count": null,
   "metadata": {},
   "outputs": [],
   "source": [
    "# CLEAN SERVICE PROVIDERS BOOKINGS TABLE\n",
    "tables.create_clean_service_providers_bookings_table(sql_engine)"
   ]
  },
  {
   "cell_type": "code",
   "execution_count": null,
   "metadata": {},
   "outputs": [],
   "source": [
    "# Populate ClientUsers Table\n",
    "users_df = pd.DataFrame(\n",
    "    [\n",
    "        (\n",
    "            \"name\",\n",
    "            \"admin\",\n",
    "            \"admin\",\n",
    "            \"admin@gmail.com\",\n",
    "            \"0767158866\",\n",
    "            \"address\",\n",
    "            \"city\",\n",
    "            \"zip\",\n",
    "            \"country\",\n",
    "            \"\",\n",
    "        ),\n",
    "    ],\n",
    "    columns=[\n",
    "        \"name\",\n",
    "        \"username\",\n",
    "        \"password\",\n",
    "        \"email\",\n",
    "        \"phone\",\n",
    "        \"address\",\n",
    "        \"city\",\n",
    "        \"zip\",\n",
    "        \"country\",\n",
    "        \"imgBase64\",\n",
    "    ],\n",
    ")\n",
    "with sql_engine.begin() as con:\n",
    "    users_df.to_sql(\"ClientUsers\", con, if_exists=\"append\", index=False)"
   ]
  }
 ],
 "metadata": {
  "kernelspec": {
   "display_name": "venv-spotless-squad",
   "language": "python",
   "name": "python3"
  },
  "language_info": {
   "codemirror_mode": {
    "name": "ipython",
    "version": 3
   },
   "file_extension": ".py",
   "mimetype": "text/x-python",
   "name": "python",
   "nbconvert_exporter": "python",
   "pygments_lexer": "ipython3",
   "version": "3.11.6"
  }
 },
 "nbformat": 4,
 "nbformat_minor": 2
}
