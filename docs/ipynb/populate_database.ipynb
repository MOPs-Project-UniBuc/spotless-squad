{
 "cells": [
  {
   "cell_type": "code",
   "execution_count": 1,
   "metadata": {},
   "outputs": [],
   "source": [
    "import sqlite3\n",
    "\n",
    "import pandas as pd\n",
    "\n",
    "from spotlesssquad.sql import tables "
   ]
  },
  {
   "cell_type": "markdown",
   "metadata": {},
   "source": [
    "```sh\n",
    "sqlite3 spotlesssquad/SpotlessSquad.db\n",
    "```"
   ]
  },
  {
   "cell_type": "code",
   "execution_count": 2,
   "metadata": {},
   "outputs": [],
   "source": [
    "con = sqlite3.connect(\"../../spotlesssquad/SpotlessSquad.db\")"
   ]
  },
  {
   "cell_type": "code",
   "execution_count": 3,
   "metadata": {},
   "outputs": [
    {
     "data": {
      "text/plain": [
       "<sqlite3.Cursor at 0x7f0d079fdec0>"
      ]
     },
     "execution_count": 3,
     "metadata": {},
     "output_type": "execute_result"
    }
   ],
   "source": [
    "# CREATE CLIENT USERS TABLE\n",
    "tables.create_client_users_table(con)"
   ]
  },
  {
   "cell_type": "code",
   "execution_count": 4,
   "metadata": {},
   "outputs": [
    {
     "data": {
      "text/plain": [
       "<sqlite3.Cursor at 0x7f0d079fddc0>"
      ]
     },
     "execution_count": 4,
     "metadata": {},
     "output_type": "execute_result"
    }
   ],
   "source": [
    "# CREATE CLEAN SERVICE PROVIDERS TABLE\n",
    "tables.create_clean_service_providers_table(con)"
   ]
  },
  {
   "cell_type": "code",
   "execution_count": 5,
   "metadata": {},
   "outputs": [
    {
     "data": {
      "text/plain": [
       "1"
      ]
     },
     "execution_count": 5,
     "metadata": {},
     "output_type": "execute_result"
    }
   ],
   "source": [
    "# Populate ClientUsers Table\n",
    "users_df = pd.DataFrame(\n",
    "    [\n",
    "        (\n",
    "            \"name\",\n",
    "            \"username\",\n",
    "            \"password\",\n",
    "            \"email@gmail.com\",\n",
    "            \"0767158866\",\n",
    "            \"address\",\n",
    "            \"city\",\n",
    "            \"zip\",\n",
    "            \"country\",\n",
    "            \"\",\n",
    "        ),\n",
    "    ],\n",
    "    columns=[\n",
    "        \"name\",\n",
    "        \"username\",\n",
    "        \"password\",\n",
    "        \"email\",\n",
    "        \"phone\",\n",
    "        \"address\",\n",
    "        \"city\",\n",
    "        \"zip\",\n",
    "        \"country\",\n",
    "        \"imgBase64\",\n",
    "    ],\n",
    ")\n",
    "\n",
    "users_df.to_sql(\"ClientUsers\", con, if_exists=\"append\", index=False)"
   ]
  },
  {
   "cell_type": "code",
   "execution_count": 6,
   "metadata": {},
   "outputs": [],
   "source": [
    "con.close()"
   ]
  }
 ],
 "metadata": {
  "kernelspec": {
   "display_name": "venv-spotless-squad",
   "language": "python",
   "name": "python3"
  },
  "language_info": {
   "codemirror_mode": {
    "name": "ipython",
    "version": 3
   },
   "file_extension": ".py",
   "mimetype": "text/x-python",
   "name": "python",
   "nbconvert_exporter": "python",
   "pygments_lexer": "ipython3",
   "version": "3.11.6"
  }
 },
 "nbformat": 4,
 "nbformat_minor": 2
}
